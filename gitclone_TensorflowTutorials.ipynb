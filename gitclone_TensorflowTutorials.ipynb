{
  "nbformat": 4,
  "nbformat_minor": 0,
  "metadata": {
    "colab": {
      "name": "gitclone_TensorflowTutorials.ipynb",
      "version": "0.3.2",
      "provenance": [],
      "include_colab_link": true
    },
    "kernelspec": {
      "name": "python3",
      "display_name": "Python 3"
    },
    "accelerator": "GPU"
  },
  "cells": [
    {
      "cell_type": "markdown",
      "metadata": {
        "id": "view-in-github",
        "colab_type": "text"
      },
      "source": [
        "<a href=\"https://colab.research.google.com/github/osdalmau/datasciencecoursera/blob/master/gitclone_TensorflowTutorials.ipynb\" target=\"_parent\"><img src=\"https://colab.research.google.com/assets/colab-badge.svg\" alt=\"Open In Colab\"/></a>"
      ]
    },
    {
      "metadata": {
        "id": "6LGQtuke9TUZ",
        "colab_type": "code",
        "colab": {
          "base_uri": "https://localhost:8080/",
          "height": 102
        },
        "outputId": "f7bcc715-7035-42ba-e147-0d37a1b7eebb"
      },
      "cell_type": "code",
      "source": [
        "import os\n",
        "wd = '/content/Tensorflow-Tutorials/'\n",
        "if os.getcwd() != wd:\n",
        "  !git clone https://github.com/Hvass-Labs/TensorFlow-Tutorials\n",
        "\n",
        "    "
      ],
      "execution_count": 1,
      "outputs": [
        {
          "output_type": "stream",
          "text": [
            "Cloning into 'TensorFlow-Tutorials'...\n",
            "remote: Enumerating objects: 459, done.\u001b[K\n",
            "remote: Total 459 (delta 0), reused 0 (delta 0), pack-reused 459\u001b[K\n",
            "Receiving objects: 100% (459/459), 61.89 MiB | 21.86 MiB/s, done.\n",
            "Resolving deltas: 100% (215/215), done.\n"
          ],
          "name": "stdout"
        }
      ]
    },
    {
      "metadata": {
        "id": "pA6kgG919vjf",
        "colab_type": "code",
        "colab": {}
      },
      "cell_type": "code",
      "source": [
        "#os.listdir()\n",
        "#os.chdir('TensorFlow-Tutorials')\n",
        "os.getcwd()\n",
        "os.curdir\n",
        "os.chdir('../../')"
      ],
      "execution_count": 0,
      "outputs": []
    },
    {
      "metadata": {
        "id": "qGq3t5QFcm1l",
        "colab_type": "code",
        "colab": {
          "base_uri": "https://localhost:8080/",
          "height": 442
        },
        "outputId": "f8e65667-8a31-4b6c-e164-9e8b493e9a5e"
      },
      "cell_type": "code",
      "source": [
        "os.listdir()"
      ],
      "execution_count": 20,
      "outputs": [
        {
          "output_type": "execute_result",
          "data": {
            "text/plain": [
              "['dev',\n",
              " 'lib',\n",
              " 'home',\n",
              " 'media',\n",
              " 'tmp',\n",
              " 'boot',\n",
              " 'srv',\n",
              " 'sbin',\n",
              " 'sys',\n",
              " 'etc',\n",
              " 'var',\n",
              " 'bin',\n",
              " 'lib64',\n",
              " 'root',\n",
              " 'usr',\n",
              " 'opt',\n",
              " 'run',\n",
              " 'proc',\n",
              " 'mnt',\n",
              " 'content',\n",
              " '.dockerenv',\n",
              " 'datalab',\n",
              " 'tools',\n",
              " 'colabtools',\n",
              " 'lib32']"
            ]
          },
          "metadata": {
            "tags": []
          },
          "execution_count": 20
        }
      ]
    }
  ]
}