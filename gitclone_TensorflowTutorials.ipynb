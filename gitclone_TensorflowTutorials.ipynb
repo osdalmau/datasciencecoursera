{
  "nbformat": 4,
  "nbformat_minor": 0,
  "metadata": {
    "colab": {
      "name": "gitclone_TensorflowTutorials.ipynb",
      "version": "0.3.2",
      "provenance": [],
      "include_colab_link": true
    },
    "kernelspec": {
      "name": "python3",
      "display_name": "Python 3"
    },
    "accelerator": "GPU"
  },
  "cells": [
    {
      "cell_type": "markdown",
      "metadata": {
        "id": "view-in-github",
        "colab_type": "text"
      },
      "source": [
        "<a href=\"https://colab.research.google.com/github/osdalmau/datasciencecoursera/blob/master/gitclone_TensorflowTutorials.ipynb\" target=\"_parent\"><img src=\"https://colab.research.google.com/assets/colab-badge.svg\" alt=\"Open In Colab\"/></a>"
      ]
    },
    {
      "metadata": {
        "id": "6LGQtuke9TUZ",
        "colab_type": "code",
        "outputId": "5bf01f4f-1469-4f1f-f0cc-96b18173aa7d",
        "colab": {
          "base_uri": "https://localhost:8080/",
          "height": 901
        }
      },
      "cell_type": "code",
      "source": [
        "import os\n",
        "os.chdir('/') \n",
        "wd = '/content/TensorFlow-Tutorials/'\n",
        "if os.getcwd() != wd:\n",
        "  !git clone https://github.com/Hvass-Labs/TensorFlow-Tutorials\n",
        "\n",
        "os.chdir(wd) \n",
        "print('Current Directory: ', os.getcwd())\n",
        "ls = os.listdir()\n",
        "print('Directory List: ')\n",
        "ls\n"
      ],
      "execution_count": 44,
      "outputs": [
        {
          "output_type": "stream",
          "text": [
            "fatal: destination path 'TensorFlow-Tutorials' already exists and is not an empty directory.\n",
            "Current Directory:  /content/TensorFlow-Tutorials\n",
            "Directory List: \n"
          ],
          "name": "stdout"
        },
        {
          "output_type": "execute_result",
          "data": {
            "text/plain": [
              "['13_Visual_Analysis.ipynb',\n",
              " '23_Time-Series-Prediction.ipynb',\n",
              " 'mnist.py',\n",
              " '02_Convolutional_Neural_Network.ipynb',\n",
              " '07_Inception_Model.ipynb',\n",
              " 'images',\n",
              " '05_Ensemble_Learning.ipynb',\n",
              " '.git',\n",
              " 'download.py',\n",
              " '14_DeepDream.ipynb',\n",
              " 'reinforcement_learning.py',\n",
              " 'convert.py',\n",
              " 'knifey.py',\n",
              " '08_Transfer_Learning.ipynb',\n",
              " '06_CIFAR-10.ipynb',\n",
              " '22_Image_Captioning.ipynb',\n",
              " 'imdb.py',\n",
              " 'requirements.txt',\n",
              " 'europarl.py',\n",
              " '15_Style_Transfer.ipynb',\n",
              " '13B_Visual_Analysis_MNIST.ipynb',\n",
              " '16_Reinforcement_Learning.ipynb',\n",
              " 'weather.py',\n",
              " '04_Save_Restore.ipynb',\n",
              " 'README.md',\n",
              " 'dataset.py',\n",
              " '03B_Layers_API.ipynb',\n",
              " '03_PrettyTensor.ipynb',\n",
              " '10_Fine-Tuning.ipynb',\n",
              " 'coco.py',\n",
              " 'inception5h.py',\n",
              " '21_Machine_Translation.ipynb',\n",
              " '01_Simple_Linear_Model.ipynb',\n",
              " 'vgg16.py',\n",
              " '18_TFRecords_Dataset_API.ipynb',\n",
              " '03C_Keras_API.ipynb',\n",
              " '20_Natural_Language_Processing.ipynb',\n",
              " 'cache.py',\n",
              " '09_Video_Data.ipynb',\n",
              " '.gitignore',\n",
              " 'cifar10.py',\n",
              " 'forks.md',\n",
              " '19_Hyper-Parameters.ipynb',\n",
              " 'LICENSE',\n",
              " 'inception.py',\n",
              " '11_Adversarial_Examples.ipynb',\n",
              " '12_Adversarial_Noise_MNIST.ipynb',\n",
              " '.github',\n",
              " '17_Estimator_API.ipynb']"
            ]
          },
          "metadata": {
            "tags": []
          },
          "execution_count": 44
        }
      ]
    },
    {
      "metadata": {
        "id": "pA6kgG919vjf",
        "colab_type": "code",
        "colab": {}
      },
      "cell_type": "code",
      "source": [
        "#os.listdir()\n",
        "#os.chdir('TensorFlow-Tutorials')\n",
        "os.getcwd()\n",
        "os.curdir\n",
        "os.chdir('../../')"
      ],
      "execution_count": 0,
      "outputs": []
    },
    {
      "metadata": {
        "id": "qGq3t5QFcm1l",
        "colab_type": "code",
        "outputId": "1db72fe2-890d-4dd7-c83b-8679f7cce8c4",
        "colab": {
          "base_uri": "https://localhost:8080/",
          "height": 850
        }
      },
      "cell_type": "code",
      "source": [
        "ls"
      ],
      "execution_count": 42,
      "outputs": [
        {
          "output_type": "execute_result",
          "data": {
            "text/plain": [
              "['13_Visual_Analysis.ipynb',\n",
              " '23_Time-Series-Prediction.ipynb',\n",
              " 'mnist.py',\n",
              " '02_Convolutional_Neural_Network.ipynb',\n",
              " '07_Inception_Model.ipynb',\n",
              " 'images',\n",
              " '05_Ensemble_Learning.ipynb',\n",
              " '.git',\n",
              " 'download.py',\n",
              " '14_DeepDream.ipynb',\n",
              " 'reinforcement_learning.py',\n",
              " 'convert.py',\n",
              " 'knifey.py',\n",
              " '08_Transfer_Learning.ipynb',\n",
              " '06_CIFAR-10.ipynb',\n",
              " '22_Image_Captioning.ipynb',\n",
              " 'imdb.py',\n",
              " 'requirements.txt',\n",
              " 'europarl.py',\n",
              " '15_Style_Transfer.ipynb',\n",
              " '13B_Visual_Analysis_MNIST.ipynb',\n",
              " '16_Reinforcement_Learning.ipynb',\n",
              " 'weather.py',\n",
              " '04_Save_Restore.ipynb',\n",
              " 'README.md',\n",
              " 'dataset.py',\n",
              " '03B_Layers_API.ipynb',\n",
              " '03_PrettyTensor.ipynb',\n",
              " '10_Fine-Tuning.ipynb',\n",
              " 'coco.py',\n",
              " 'inception5h.py',\n",
              " '21_Machine_Translation.ipynb',\n",
              " '01_Simple_Linear_Model.ipynb',\n",
              " 'vgg16.py',\n",
              " '18_TFRecords_Dataset_API.ipynb',\n",
              " '03C_Keras_API.ipynb',\n",
              " '20_Natural_Language_Processing.ipynb',\n",
              " 'cache.py',\n",
              " '09_Video_Data.ipynb',\n",
              " '.gitignore',\n",
              " 'cifar10.py',\n",
              " 'forks.md',\n",
              " '19_Hyper-Parameters.ipynb',\n",
              " 'LICENSE',\n",
              " 'inception.py',\n",
              " '11_Adversarial_Examples.ipynb',\n",
              " '12_Adversarial_Noise_MNIST.ipynb',\n",
              " '.github',\n",
              " '17_Estimator_API.ipynb']"
            ]
          },
          "metadata": {
            "tags": []
          },
          "execution_count": 42
        }
      ]
    },
    {
      "metadata": {
        "id": "IcugJZzhfKRJ",
        "colab_type": "code",
        "colab": {
          "base_uri": "https://localhost:8080/",
          "height": 850
        },
        "outputId": "c97f9f53-f826-43d6-a0e2-2af812d9d8da"
      },
      "cell_type": "code",
      "source": [
        "#os.chdir('/content/')\n",
        "os.listdir('./TensorFlow-Tutorials/')\n"
      ],
      "execution_count": 28,
      "outputs": [
        {
          "output_type": "execute_result",
          "data": {
            "text/plain": [
              "['13_Visual_Analysis.ipynb',\n",
              " '23_Time-Series-Prediction.ipynb',\n",
              " 'mnist.py',\n",
              " '02_Convolutional_Neural_Network.ipynb',\n",
              " '07_Inception_Model.ipynb',\n",
              " 'images',\n",
              " '05_Ensemble_Learning.ipynb',\n",
              " '.git',\n",
              " 'download.py',\n",
              " '14_DeepDream.ipynb',\n",
              " 'reinforcement_learning.py',\n",
              " 'convert.py',\n",
              " 'knifey.py',\n",
              " '08_Transfer_Learning.ipynb',\n",
              " '06_CIFAR-10.ipynb',\n",
              " '22_Image_Captioning.ipynb',\n",
              " 'imdb.py',\n",
              " 'requirements.txt',\n",
              " 'europarl.py',\n",
              " '15_Style_Transfer.ipynb',\n",
              " '13B_Visual_Analysis_MNIST.ipynb',\n",
              " '16_Reinforcement_Learning.ipynb',\n",
              " 'weather.py',\n",
              " '04_Save_Restore.ipynb',\n",
              " 'README.md',\n",
              " 'dataset.py',\n",
              " '03B_Layers_API.ipynb',\n",
              " '03_PrettyTensor.ipynb',\n",
              " '10_Fine-Tuning.ipynb',\n",
              " 'coco.py',\n",
              " 'inception5h.py',\n",
              " '21_Machine_Translation.ipynb',\n",
              " '01_Simple_Linear_Model.ipynb',\n",
              " 'vgg16.py',\n",
              " '18_TFRecords_Dataset_API.ipynb',\n",
              " '03C_Keras_API.ipynb',\n",
              " '20_Natural_Language_Processing.ipynb',\n",
              " 'cache.py',\n",
              " '09_Video_Data.ipynb',\n",
              " '.gitignore',\n",
              " 'cifar10.py',\n",
              " 'forks.md',\n",
              " '19_Hyper-Parameters.ipynb',\n",
              " 'LICENSE',\n",
              " 'inception.py',\n",
              " '11_Adversarial_Examples.ipynb',\n",
              " '12_Adversarial_Noise_MNIST.ipynb',\n",
              " '.github',\n",
              " '17_Estimator_API.ipynb']"
            ]
          },
          "metadata": {
            "tags": []
          },
          "execution_count": 28
        }
      ]
    }
  ]
}